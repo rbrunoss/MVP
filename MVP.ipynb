{
 "cells": [
  {
   "cell_type": "code",
   "execution_count": 0,
   "metadata": {
    "application/vnd.databricks.v1+cell": {
     "cellMetadata": {
      "byteLimit": 2048000,
      "implicitDf": true,
      "rowLimit": 10000
     },
     "inputWidgets": {},
     "nuid": "23481ac4-374e-48e5-9f57-5efaae86449d",
     "showTitle": false,
     "tableResultSettingsMap": {},
     "title": ""
    }
   },
   "outputs": [],
   "source": [
    "\n",
    "file_location = \"/FileStore/full_grouped_base_dataset_csv.csv\"\n",
    "file_type = \"csv\"\n",
    "\n",
    "infer_schema = \"false\"\n",
    "first_row_is_header = \"true\"\n",
    "delimiter = \",\"\n",
    "\n",
    "df = spark.read.format(file_type) \\\n",
    "  .option(\"inferSchema\", infer_schema) \\\n",
    "  .option(\"header\", first_row_is_header) \\\n",
    "  .option(\"sep\", delimiter) \\\n",
    "  .load(file_location)\n",
    "\n",
    "#display(df)\n",
    "\n",
    "temp_table_name = \"full_grouped_base_dataset_csv\"\n",
    "\n",
    "df.createOrReplaceTempView(temp_table_name)\n",
    "\n",
    "df.write.mode(\"overwrite\").saveAsTable(\"full_grouped_base_dataset_csv\")"
   ]
  },
  {
   "cell_type": "code",
   "execution_count": 0,
   "metadata": {
    "application/vnd.databricks.v1+cell": {
     "cellMetadata": {
      "byteLimit": 2048000,
      "rowLimit": 10000
     },
     "inputWidgets": {},
     "nuid": "2ff17566-4314-4783-bd8d-95ffbfbb9ef9",
     "showTitle": false,
     "tableResultSettingsMap": {},
     "title": ""
    }
   },
   "outputs": [
    {
     "output_type": "stream",
     "name": "stdout",
     "output_type": "stream",
     "text": [
      "Out[101]: False"
     ]
    }
   ],
   "source": [
    "dbutils.fs.rm('dbfs:/user/hive/warehouse/tbsilvercoviddataset',True)"
   ]
  },
  {
   "cell_type": "code",
   "execution_count": 0,
   "metadata": {
    "application/vnd.databricks.v1+cell": {
     "cellMetadata": {
      "byteLimit": 2048000,
      "implicitDf": true,
      "rowLimit": 10000
     },
     "inputWidgets": {},
     "nuid": "85ec52ea-3fdf-4321-9be7-18c048aa1670",
     "showTitle": false,
     "tableResultSettingsMap": {},
     "title": ""
    }
   },
   "outputs": [
    {
     "output_type": "display_data",
     "data": {
      "text/html": [
       "<style scoped>\n",
       "  .table-result-container {\n",
       "    max-height: 300px;\n",
       "    overflow: auto;\n",
       "  }\n",
       "  table, th, td {\n",
       "    border: 1px solid black;\n",
       "    border-collapse: collapse;\n",
       "  }\n",
       "  th, td {\n",
       "    padding: 5px;\n",
       "  }\n",
       "  th {\n",
       "    text-align: left;\n",
       "  }\n",
       "</style><div class='table-result-container'><table class='table-result'><thead style='background-color: white'><tr></tr></thead><tbody></tbody></table></div>"
      ]
     },
     "metadata": {
      "application/vnd.databricks.v1+output": {
       "addedWidgets": {},
       "aggData": [],
       "aggError": "",
       "aggOverflow": false,
       "aggSchema": [],
       "aggSeriesLimitReached": false,
       "aggType": "",
       "arguments": {},
       "columnCustomDisplayInfos": {},
       "data": [],
       "datasetInfos": [],
       "dbfsResultPath": null,
       "isJsonSchema": true,
       "metadata": {},
       "overflow": false,
       "plotOptions": {
        "customPlotOptions": {},
        "displayType": "table",
        "pivotAggregation": null,
        "pivotColumns": null,
        "xColumns": null,
        "yColumns": null
       },
       "removedWidgets": [],
       "schema": [],
       "type": "table"
      }
     },
     "output_type": "display_data"
    }
   ],
   "source": [
    "%sql\n",
    "CREATE TABLE IF NOT EXISTS default.tbSilverCovidDataset\n",
    "(\n",
    "Data STRING\n",
    ",Pais STRING\n",
    ",Confirmados STRING\n",
    ",Mortes STRING\n",
    ",Recuperados STRING\n",
    ",Ativos STRING\n",
    ",Novos_casos STRING\n",
    ",Novas_mortes STRING\n",
    ",Novos_recuperados STRING\n",
    ",Continente STRING\n",
    ");"
   ]
  },
  {
   "cell_type": "code",
   "execution_count": 0,
   "metadata": {
    "application/vnd.databricks.v1+cell": {
     "cellMetadata": {
      "byteLimit": 2048000,
      "implicitDf": true,
      "rowLimit": 10000
     },
     "inputWidgets": {},
     "nuid": "417d9e37-bd88-4b7d-a559-017cf5150a1d",
     "showTitle": false,
     "tableResultSettingsMap": {},
     "title": ""
    }
   },
   "outputs": [
    {
     "output_type": "display_data",
     "data": {
      "text/html": [
       "<style scoped>\n",
       "  .table-result-container {\n",
       "    max-height: 300px;\n",
       "    overflow: auto;\n",
       "  }\n",
       "  table, th, td {\n",
       "    border: 1px solid black;\n",
       "    border-collapse: collapse;\n",
       "  }\n",
       "  th, td {\n",
       "    padding: 5px;\n",
       "  }\n",
       "  th {\n",
       "    text-align: left;\n",
       "  }\n",
       "</style><div class='table-result-container'><table class='table-result'><thead style='background-color: white'><tr><th>num_affected_rows</th><th>num_inserted_rows</th></tr></thead><tbody><tr><td>33184</td><td>33184</td></tr></tbody></table></div>"
      ]
     },
     "metadata": {
      "application/vnd.databricks.v1+output": {
       "addedWidgets": {},
       "aggData": [],
       "aggError": "",
       "aggOverflow": false,
       "aggSchema": [],
       "aggSeriesLimitReached": false,
       "aggType": "",
       "arguments": {},
       "columnCustomDisplayInfos": {},
       "data": [
        [
         33184,
         33184
        ]
       ],
       "datasetInfos": [],
       "dbfsResultPath": null,
       "isJsonSchema": true,
       "metadata": {},
       "overflow": false,
       "plotOptions": {
        "customPlotOptions": {},
        "displayType": "table",
        "pivotAggregation": null,
        "pivotColumns": null,
        "xColumns": null,
        "yColumns": null
       },
       "removedWidgets": [],
       "schema": [
        {
         "metadata": "{}",
         "name": "num_affected_rows",
         "type": "\"long\""
        },
        {
         "metadata": "{}",
         "name": "num_inserted_rows",
         "type": "\"long\""
        }
       ],
       "type": "table"
      }
     },
     "output_type": "display_data"
    }
   ],
   "source": [
    "%sql\n",
    "Insert into default.tbSilverCovidDataset\n",
    "(\n",
    "Data \n",
    ",Pais \n",
    ",Confirmados \n",
    ",Mortes \n",
    ",Recuperados \n",
    ",Ativos\n",
    ",Novos_casos \n",
    ",Novas_mortes \n",
    ",Novos_recuperados \n",
    ",Continente \n",
    ")\n",
    "select \n",
    "Date\t\n",
    ",Country_Region\t\n",
    ",Confirmed\t\n",
    ",Deaths\t\n",
    ",Recovered\t\n",
    ",Active\t\n",
    ",New_cases\t\n",
    ",New_deaths\t\n",
    ",New_recovered\t\n",
    ",WHO_Region\n",
    "from default.full_grouped_base_dataset_csv"
   ]
  },
  {
   "cell_type": "code",
   "execution_count": 0,
   "metadata": {
    "application/vnd.databricks.v1+cell": {
     "cellMetadata": {
      "byteLimit": 2048000,
      "rowLimit": 10000
     },
     "inputWidgets": {},
     "nuid": "17eb314f-abd2-444b-9f88-b4313c5bbae6",
     "showTitle": false,
     "tableResultSettingsMap": {},
     "title": ""
    }
   },
   "outputs": [
    {
     "output_type": "stream",
     "name": "stdout",
     "output_type": "stream",
     "text": [
      "Out[104]: False"
     ]
    }
   ],
   "source": [
    "dbutils.fs.rm('dbfs:/user/hive/warehouse/tbgoldcoviddataset',True)"
   ]
  },
  {
   "cell_type": "code",
   "execution_count": 0,
   "metadata": {
    "application/vnd.databricks.v1+cell": {
     "cellMetadata": {
      "byteLimit": 2048000,
      "implicitDf": true,
      "rowLimit": 10000
     },
     "inputWidgets": {},
     "nuid": "4e53e24e-d775-435d-bf08-0d1d6ea9f59a",
     "showTitle": false,
     "tableResultSettingsMap": {},
     "title": ""
    }
   },
   "outputs": [
    {
     "output_type": "display_data",
     "data": {
      "text/html": [
       "<style scoped>\n",
       "  .table-result-container {\n",
       "    max-height: 300px;\n",
       "    overflow: auto;\n",
       "  }\n",
       "  table, th, td {\n",
       "    border: 1px solid black;\n",
       "    border-collapse: collapse;\n",
       "  }\n",
       "  th, td {\n",
       "    padding: 5px;\n",
       "  }\n",
       "  th {\n",
       "    text-align: left;\n",
       "  }\n",
       "</style><div class='table-result-container'><table class='table-result'><thead style='background-color: white'><tr></tr></thead><tbody></tbody></table></div>"
      ]
     },
     "metadata": {
      "application/vnd.databricks.v1+output": {
       "addedWidgets": {},
       "aggData": [],
       "aggError": "",
       "aggOverflow": false,
       "aggSchema": [],
       "aggSeriesLimitReached": false,
       "aggType": "",
       "arguments": {},
       "columnCustomDisplayInfos": {},
       "data": [],
       "datasetInfos": [],
       "dbfsResultPath": null,
       "isJsonSchema": true,
       "metadata": {},
       "overflow": false,
       "plotOptions": {
        "customPlotOptions": {},
        "displayType": "table",
        "pivotAggregation": null,
        "pivotColumns": null,
        "xColumns": null,
        "yColumns": null
       },
       "removedWidgets": [],
       "schema": [],
       "type": "table"
      }
     },
     "output_type": "display_data"
    }
   ],
   "source": [
    "%sql\n",
    "CREATE TABLE IF NOT EXISTS default.tbGoldCovidDataset\n",
    "(\n",
    "Data STRING\n",
    ",Pais STRING\n",
    ",Confirmados STRING\n",
    ",Mortes STRING\n",
    ",Recuperados STRING\n",
    ",Ativos STRING\n",
    ",Novos_casos STRING\n",
    ",Novas_mortes STRING\n",
    ",Novos_recuperados STRING\n",
    ",Continente STRING\n",
    ");"
   ]
  },
  {
   "cell_type": "code",
   "execution_count": 0,
   "metadata": {
    "application/vnd.databricks.v1+cell": {
     "cellMetadata": {
      "byteLimit": 2048000,
      "implicitDf": true,
      "rowLimit": 10000
     },
     "inputWidgets": {},
     "nuid": "e3ad1c03-5247-464f-bec1-c959624a0cc1",
     "showTitle": false,
     "tableResultSettingsMap": {},
     "title": ""
    }
   },
   "outputs": [
    {
     "output_type": "display_data",
     "data": {
      "text/html": [
       "<style scoped>\n",
       "  .table-result-container {\n",
       "    max-height: 300px;\n",
       "    overflow: auto;\n",
       "  }\n",
       "  table, th, td {\n",
       "    border: 1px solid black;\n",
       "    border-collapse: collapse;\n",
       "  }\n",
       "  th, td {\n",
       "    padding: 5px;\n",
       "  }\n",
       "  th {\n",
       "    text-align: left;\n",
       "  }\n",
       "</style><div class='table-result-container'><table class='table-result'><thead style='background-color: white'><tr><th>num_affected_rows</th><th>num_inserted_rows</th></tr></thead><tbody><tr><td>25166</td><td>25166</td></tr></tbody></table></div>"
      ]
     },
     "metadata": {
      "application/vnd.databricks.v1+output": {
       "addedWidgets": {},
       "aggData": [],
       "aggError": "",
       "aggOverflow": false,
       "aggSchema": [],
       "aggSeriesLimitReached": false,
       "aggType": "",
       "arguments": {},
       "columnCustomDisplayInfos": {},
       "data": [
        [
         25166,
         25166
        ]
       ],
       "datasetInfos": [],
       "dbfsResultPath": null,
       "isJsonSchema": true,
       "metadata": {},
       "overflow": false,
       "plotOptions": {
        "customPlotOptions": {},
        "displayType": "table",
        "pivotAggregation": null,
        "pivotColumns": null,
        "xColumns": null,
        "yColumns": null
       },
       "removedWidgets": [],
       "schema": [
        {
         "metadata": "{}",
         "name": "num_affected_rows",
         "type": "\"long\""
        },
        {
         "metadata": "{}",
         "name": "num_inserted_rows",
         "type": "\"long\""
        }
       ],
       "type": "table"
      }
     },
     "output_type": "display_data"
    }
   ],
   "source": [
    "%sql\n",
    "Insert into default.tbGoldCovidDataset\n",
    "(\n",
    "Data \n",
    ",Pais \n",
    ",Confirmados \n",
    ",Mortes \n",
    ",Recuperados \n",
    ",Ativos\n",
    ",Novos_casos \n",
    ",Novas_mortes \n",
    ",Novos_recuperados \n",
    ",Continente \n",
    ")\n",
    "select \n",
    "Data \n",
    ",Pais \n",
    ",Confirmados \n",
    ",Mortes \n",
    ",Recuperados \n",
    ",Ativos\n",
    ",Novos_casos \n",
    ",Novas_mortes \n",
    ",Novos_recuperados \n",
    ",Continente \n",
    "from default.tbSilverCovidDataset\n",
    "where \n",
    "Confirmados > 0\n",
    "or Mortes > 0\n",
    "or Recuperados  > 0\n",
    "or Ativos > 0\n",
    "or Novos_casos  > 0\n",
    "or Novas_mortes  > 0\n",
    "or Novos_recuperados  > 0\n"
   ]
  },
  {
   "cell_type": "code",
   "execution_count": 0,
   "metadata": {
    "application/vnd.databricks.v1+cell": {
     "cellMetadata": {
      "byteLimit": 2048000,
      "implicitDf": true,
      "rowLimit": 10000
     },
     "inputWidgets": {},
     "nuid": "c6fe3567-69f5-41ea-b0e8-4e2515cbda48",
     "showTitle": false,
     "tableResultSettingsMap": {},
     "title": ""
    }
   },
   "outputs": [
    {
     "output_type": "display_data",
     "data": {
      "text/html": [
       "<style scoped>\n",
       "  .table-result-container {\n",
       "    max-height: 300px;\n",
       "    overflow: auto;\n",
       "  }\n",
       "  table, th, td {\n",
       "    border: 1px solid black;\n",
       "    border-collapse: collapse;\n",
       "  }\n",
       "  th, td {\n",
       "    padding: 5px;\n",
       "  }\n",
       "  th {\n",
       "    text-align: left;\n",
       "  }\n",
       "</style><div class='table-result-container'><table class='table-result'><thead style='background-color: white'><tr><th>Mes</th><th>Novos_casos</th></tr></thead><tbody><tr><td>1</td><td>9372.0</td></tr><tr><td>2</td><td>75379.0</td></tr><tr><td>3</td><td>786064.0</td></tr><tr><td>4</td><td>2412383.0</td></tr><tr><td>5</td><td>2921042.0</td></tr><tr><td>6</td><td>4265801.0</td></tr><tr><td>7</td><td>3473901.0</td></tr></tbody></table></div>"
      ]
     },
     "metadata": {
      "application/vnd.databricks.v1+output": {
       "addedWidgets": {},
       "aggData": [],
       "aggError": "",
       "aggOverflow": false,
       "aggSchema": [],
       "aggSeriesLimitReached": false,
       "aggType": "",
       "arguments": {},
       "columnCustomDisplayInfos": {},
       "data": [
        [
         1,
         9372.0
        ],
        [
         2,
         75379.0
        ],
        [
         3,
         786064.0
        ],
        [
         4,
         2412383.0
        ],
        [
         5,
         2921042.0
        ],
        [
         6,
         4265801.0
        ],
        [
         7,
         3473901.0
        ]
       ],
       "datasetInfos": [],
       "dbfsResultPath": null,
       "isJsonSchema": true,
       "metadata": {},
       "overflow": false,
       "plotOptions": {
        "customPlotOptions": {},
        "displayType": "table",
        "pivotAggregation": null,
        "pivotColumns": null,
        "xColumns": null,
        "yColumns": null
       },
       "removedWidgets": [],
       "schema": [
        {
         "metadata": "{}",
         "name": "Mes",
         "type": "\"integer\""
        },
        {
         "metadata": "{}",
         "name": "Novos_casos",
         "type": "\"double\""
        }
       ],
       "type": "table"
      }
     },
     "output_type": "display_data"
    },
    {
     "output_type": "display_data",
     "data": {
      "text/plain": [
       "Databricks visualization. Run in Databricks to view."
      ]
     },
     "metadata": {
      "application/vnd.databricks.v1.subcommand+json": {
       "baseErrorDetails": null,
       "bindings": {},
       "collapsed": false,
       "command": "%sql WITH q AS (select month(data) Mes, sum(Novos_casos) Novos_casos\nfrom default.tbGoldCovidDataset\ngroup by month(data)\norder by month(data) asc) SELECT `Mes`,SUM(`Novos_casos`) `column_b72fea7544` FROM q GROUP BY `Mes`",
       "commandTitle": "Visualization 1",
       "commandType": "auto",
       "commandVersion": 0,
       "commentThread": [],
       "commentsVisible": false,
       "contentSha256Hex": null,
       "customPlotOptions": {
        "redashChart": [
         {
          "key": "type",
          "value": "CHART"
         },
         {
          "key": "options",
          "value": {
           "alignYAxesAtZero": true,
           "coefficient": 1,
           "columnConfigurationMap": {
            "x": {
             "column": "Mes",
             "id": "column_b72fea7543"
            },
            "y": [
             {
              "column": "Novos_casos",
              "id": "column_b72fea7544",
              "transform": "SUM"
             }
            ]
           },
           "dateTimeFormat": "DD/MM/YYYY HH:mm",
           "direction": {
            "type": "counterclockwise"
           },
           "error_y": {
            "type": "data",
            "visible": true
           },
           "globalSeriesType": "column",
           "isAggregationOn": true,
           "legend": {
            "traceorder": "normal"
           },
           "missingValuesAsZero": true,
           "numberFormat": "0,0.[00000]",
           "percentFormat": "0[.]00%",
           "series": {
            "error_y": {
             "type": "data",
             "visible": true
            },
            "stacking": null
           },
           "seriesOptions": {
            "column_b72fea7544": {
             "name": "Novos_casos",
             "type": "column",
             "yAxis": 0
            }
           },
           "showDataLabels": false,
           "sizemode": "diameter",
           "sortX": true,
           "sortY": true,
           "swappedAxes": false,
           "textFormat": "",
           "useAggregationsUi": true,
           "valuesOptions": {},
           "version": 2,
           "xAxis": {
            "labels": {
             "enabled": true
            },
            "type": "-"
           },
           "yAxis": [
            {
             "type": "-"
            },
            {
             "opposite": true,
             "type": "-"
            }
           ]
          }
         }
        ]
       },
       "datasetPreviewNameToCmdIdMap": {},
       "diffDeletes": [],
       "diffInserts": [],
       "displayType": "redashChart",
       "error": null,
       "errorDetails": null,
       "errorSummary": null,
       "errorTraceType": null,
       "finishTime": 0,
       "globalVars": {},
       "guid": "",
       "height": "auto",
       "hideCommandCode": false,
       "hideCommandResult": false,
       "iPythonMetadata": null,
       "inputWidgets": {},
       "isLockedInExamMode": false,
       "latestUser": "a user",
       "latestUserId": null,
       "listResultMetadata": null,
       "metadata": {
        "byteLimit": 2048000,
        "implicitDf": true,
        "rowLimit": 10000
       },
       "nuid": "7c51f4b8-3c13-4ab6-bfeb-44807657ab33",
       "origId": 0,
       "parentHierarchy": [],
       "pivotAggregation": null,
       "pivotColumns": null,
       "position": 6.0,
       "resultDbfsErrorMessage": null,
       "resultDbfsStatus": "INLINED_IN_TREE",
       "results": null,
       "showCommandTitle": false,
       "startTime": 0,
       "state": "finished",
       "streamStates": {},
       "subcommandOptions": {
        "queryPlan": {
         "groups": [
          {
           "column": "Mes",
           "type": "column"
          }
         ],
         "selects": [
          {
           "column": "Mes",
           "type": "column"
          },
          {
           "alias": "column_b72fea7544",
           "args": [
            {
             "column": "Novos_casos",
             "type": "column"
            }
           ],
           "function": "SUM",
           "type": "function"
          }
         ]
        }
       },
       "submitTime": 0,
       "subtype": "tableResultSubCmd.visualization",
       "tableResultIndex": 0,
       "tableResultSettingsMap": {},
       "useConsistentColors": false,
       "version": "CommandV1",
       "width": "auto",
       "workflows": [],
       "xColumns": null,
       "yColumns": null
      }
     },
     "output_type": "display_data"
    }
   ],
   "source": [
    "%sql\n",
    "select month(data) Mes, sum(Novos_casos) Novos_casos\n",
    "from default.tbGoldCovidDataset\n",
    "group by month(data)\n",
    "order by month(data) asc"
   ]
  },
  {
   "cell_type": "code",
   "execution_count": 0,
   "metadata": {
    "application/vnd.databricks.v1+cell": {
     "cellMetadata": {
      "byteLimit": 2048000,
      "implicitDf": true,
      "rowLimit": 10000
     },
     "inputWidgets": {},
     "nuid": "88631232-a3ae-4a14-ac29-23a00805c9ce",
     "showTitle": false,
     "tableResultSettingsMap": {},
     "title": ""
    }
   },
   "outputs": [
    {
     "output_type": "display_data",
     "data": {
      "text/html": [
       "<style scoped>\n",
       "  .table-result-container {\n",
       "    max-height: 300px;\n",
       "    overflow: auto;\n",
       "  }\n",
       "  table, th, td {\n",
       "    border: 1px solid black;\n",
       "    border-collapse: collapse;\n",
       "  }\n",
       "  th, td {\n",
       "    padding: 5px;\n",
       "  }\n",
       "  th {\n",
       "    text-align: left;\n",
       "  }\n",
       "</style><div class='table-result-container'><table class='table-result'><thead style='background-color: white'><tr><th>Mes</th><th>Novos_casos</th><th>Novas_mortes</th><th>Novos_recuperados</th></tr></thead><tbody><tr><td>1</td><td>9372.0</td><td>196.0</td><td>191.0</td></tr><tr><td>2</td><td>75379.0</td><td>2723.0</td><td>38095.0</td></tr><tr><td>3</td><td>786064.0</td><td>41542.0</td><td>135760.0</td></tr><tr><td>4</td><td>2412383.0</td><td>190226.0</td><td>815542.0</td></tr><tr><td>5</td><td>2921042.0</td><td>138902.0</td><td>1595973.0</td></tr><tr><td>6</td><td>4265801.0</td><td>137604.0</td><td>2695870.0</td></tr><tr><td>7</td><td>3473901.0</td><td>82573.0</td><td>2429906.0</td></tr></tbody></table></div>"
      ]
     },
     "metadata": {
      "application/vnd.databricks.v1+output": {
       "addedWidgets": {},
       "aggData": [],
       "aggError": "",
       "aggOverflow": false,
       "aggSchema": [],
       "aggSeriesLimitReached": false,
       "aggType": "",
       "arguments": {},
       "columnCustomDisplayInfos": {},
       "data": [
        [
         1,
         9372.0,
         196.0,
         191.0
        ],
        [
         2,
         75379.0,
         2723.0,
         38095.0
        ],
        [
         3,
         786064.0,
         41542.0,
         135760.0
        ],
        [
         4,
         2412383.0,
         190226.0,
         815542.0
        ],
        [
         5,
         2921042.0,
         138902.0,
         1595973.0
        ],
        [
         6,
         4265801.0,
         137604.0,
         2695870.0
        ],
        [
         7,
         3473901.0,
         82573.0,
         2429906.0
        ]
       ],
       "datasetInfos": [],
       "dbfsResultPath": null,
       "isJsonSchema": true,
       "metadata": {},
       "overflow": false,
       "plotOptions": {
        "customPlotOptions": {},
        "displayType": "table",
        "pivotAggregation": null,
        "pivotColumns": null,
        "xColumns": null,
        "yColumns": null
       },
       "removedWidgets": [],
       "schema": [
        {
         "metadata": "{}",
         "name": "Mes",
         "type": "\"integer\""
        },
        {
         "metadata": "{}",
         "name": "Novos_casos",
         "type": "\"double\""
        },
        {
         "metadata": "{}",
         "name": "Novas_mortes",
         "type": "\"double\""
        },
        {
         "metadata": "{}",
         "name": "Novos_recuperados",
         "type": "\"double\""
        }
       ],
       "type": "table"
      }
     },
     "output_type": "display_data"
    },
    {
     "output_type": "display_data",
     "data": {
      "text/plain": [
       "Databricks visualization. Run in Databricks to view."
      ]
     },
     "metadata": {
      "application/vnd.databricks.v1.subcommand+json": {
       "baseErrorDetails": null,
       "bindings": {},
       "collapsed": false,
       "command": "%sql WITH q AS (select month(data) Mes, sum(Novos_casos) Novos_casos,sum(Novas_mortes) Novas_mortes,sum(Novos_recuperados) Novos_recuperados\nfrom default.tbGoldCovidDataset\ngroup by month(data)\norder by month(data) asc) SELECT `Mes`,SUM(`Novos_casos`) `column_b72fea7550`,SUM(`Novas_mortes`) `column_b72fea7553`,SUM(`Novos_recuperados`) `column_b72fea7556` FROM q GROUP BY `Mes`",
       "commandTitle": "Visualization 1",
       "commandType": "auto",
       "commandVersion": 0,
       "commentThread": [],
       "commentsVisible": false,
       "contentSha256Hex": null,
       "customPlotOptions": {
        "redashChart": [
         {
          "key": "type",
          "value": "CHART"
         },
         {
          "key": "options",
          "value": {
           "alignYAxesAtZero": true,
           "coefficient": 1,
           "columnConfigurationMap": {
            "x": {
             "column": "Mes",
             "id": "column_b72fea7548"
            },
            "y": [
             {
              "column": "Novos_casos",
              "id": "column_b72fea7550",
              "transform": "SUM"
             },
             {
              "column": "Novas_mortes",
              "id": "column_b72fea7553",
              "transform": "SUM"
             },
             {
              "column": "Novos_recuperados",
              "id": "column_b72fea7556",
              "transform": "SUM"
             }
            ]
           },
           "dateTimeFormat": "DD/MM/YYYY HH:mm",
           "direction": {
            "type": "counterclockwise"
           },
           "error_y": {
            "type": "data",
            "visible": true
           },
           "globalSeriesType": "column",
           "isAggregationOn": true,
           "legend": {
            "traceorder": "normal"
           },
           "missingValuesAsZero": true,
           "numberFormat": "0,0.[00000]",
           "percentFormat": "0[.]00%",
           "series": {
            "error_y": {
             "type": "data",
             "visible": true
            },
            "stacking": null
           },
           "seriesOptions": {
            "column_b72fea7550": {
             "type": "column",
             "yAxis": 0
            },
            "column_b72fea7553": {
             "type": "column",
             "yAxis": 0
            },
            "column_b72fea7556": {
             "type": "column",
             "yAxis": 0
            }
           },
           "showDataLabels": false,
           "sizemode": "diameter",
           "sortX": true,
           "sortY": true,
           "swappedAxes": false,
           "textFormat": "",
           "useAggregationsUi": true,
           "valuesOptions": {},
           "version": 2,
           "xAxis": {
            "labels": {
             "enabled": true
            },
            "type": "-"
           },
           "yAxis": [
            {
             "type": "-"
            },
            {
             "opposite": true,
             "type": "-"
            }
           ]
          }
         }
        ]
       },
       "datasetPreviewNameToCmdIdMap": {},
       "diffDeletes": [],
       "diffInserts": [],
       "displayType": "redashChart",
       "error": null,
       "errorDetails": null,
       "errorSummary": null,
       "errorTraceType": null,
       "finishTime": 0,
       "globalVars": {},
       "guid": "",
       "height": "auto",
       "hideCommandCode": false,
       "hideCommandResult": false,
       "iPythonMetadata": null,
       "inputWidgets": {},
       "isLockedInExamMode": false,
       "latestUser": "a user",
       "latestUserId": null,
       "listResultMetadata": null,
       "metadata": {
        "byteLimit": 2048000,
        "implicitDf": true,
        "rowLimit": 10000
       },
       "nuid": "9a5467f1-38e3-4a60-a6da-c4ceecfff9c7",
       "origId": 0,
       "parentHierarchy": [],
       "pivotAggregation": null,
       "pivotColumns": null,
       "position": 6.5,
       "resultDbfsErrorMessage": null,
       "resultDbfsStatus": "INLINED_IN_TREE",
       "results": null,
       "showCommandTitle": false,
       "startTime": 0,
       "state": "finished",
       "streamStates": {},
       "subcommandOptions": {
        "queryPlan": {
         "groups": [
          {
           "column": "Mes",
           "type": "column"
          }
         ],
         "selects": [
          {
           "column": "Mes",
           "type": "column"
          },
          {
           "alias": "column_b72fea7550",
           "args": [
            {
             "column": "Novos_casos",
             "type": "column"
            }
           ],
           "function": "SUM",
           "type": "function"
          },
          {
           "alias": "column_b72fea7553",
           "args": [
            {
             "column": "Novas_mortes",
             "type": "column"
            }
           ],
           "function": "SUM",
           "type": "function"
          },
          {
           "alias": "column_b72fea7556",
           "args": [
            {
             "column": "Novos_recuperados",
             "type": "column"
            }
           ],
           "function": "SUM",
           "type": "function"
          }
         ]
        }
       },
       "submitTime": 0,
       "subtype": "tableResultSubCmd.visualization",
       "tableResultIndex": 0,
       "tableResultSettingsMap": {},
       "useConsistentColors": false,
       "version": "CommandV1",
       "width": "auto",
       "workflows": [],
       "xColumns": null,
       "yColumns": null
      }
     },
     "output_type": "display_data"
    }
   ],
   "source": [
    "%sql\n",
    "select month(data) Mes, sum(Novos_casos) Novos_casos,sum(Novas_mortes) Novas_mortes,sum(Novos_recuperados) Novos_recuperados\n",
    "from default.tbGoldCovidDataset\n",
    "group by month(data)\n",
    "order by month(data) asc"
   ]
  },
  {
   "cell_type": "code",
   "execution_count": 0,
   "metadata": {
    "application/vnd.databricks.v1+cell": {
     "cellMetadata": {
      "byteLimit": 2048000,
      "implicitDf": true,
      "rowLimit": 10000
     },
     "inputWidgets": {},
     "nuid": "3fa2e946-8245-4b0b-88df-a1530d80df0f",
     "showTitle": false,
     "tableResultSettingsMap": {},
     "title": ""
    }
   },
   "outputs": [
    {
     "output_type": "display_data",
     "data": {
      "text/html": [
       "<style scoped>\n",
       "  .table-result-container {\n",
       "    max-height: 300px;\n",
       "    overflow: auto;\n",
       "  }\n",
       "  table, th, td {\n",
       "    border: 1px solid black;\n",
       "    border-collapse: collapse;\n",
       "  }\n",
       "  th, td {\n",
       "    padding: 5px;\n",
       "  }\n",
       "  th {\n",
       "    text-align: left;\n",
       "  }\n",
       "</style><div class='table-result-container'><table class='table-result'><thead style='background-color: white'><tr><th>Pais</th><th>Novos_casos</th></tr></thead><tbody><tr><td>US</td><td>3576156.0</td></tr><tr><td>Brazil</td><td>2046328.0</td></tr><tr><td>India</td><td>1039084.0</td></tr><tr><td>Russia</td><td>751612.0</td></tr><tr><td>Peru</td><td>341586.0</td></tr><tr><td>Chile</td><td>326439.0</td></tr><tr><td>South Africa</td><td>324221.0</td></tr><tr><td>Mexico</td><td>324041.0</td></tr><tr><td>United Kingdom</td><td>294116.0</td></tr><tr><td>Iran</td><td>269440.0</td></tr></tbody></table></div>"
      ]
     },
     "metadata": {
      "application/vnd.databricks.v1+output": {
       "addedWidgets": {},
       "aggData": [],
       "aggError": "",
       "aggOverflow": false,
       "aggSchema": [],
       "aggSeriesLimitReached": false,
       "aggType": "",
       "arguments": {},
       "columnCustomDisplayInfos": {},
       "data": [
        [
         "US",
         3576156.0
        ],
        [
         "Brazil",
         2046328.0
        ],
        [
         "India",
         1039084.0
        ],
        [
         "Russia",
         751612.0
        ],
        [
         "Peru",
         341586.0
        ],
        [
         "Chile",
         326439.0
        ],
        [
         "South Africa",
         324221.0
        ],
        [
         "Mexico",
         324041.0
        ],
        [
         "United Kingdom",
         294116.0
        ],
        [
         "Iran",
         269440.0
        ]
       ],
       "datasetInfos": [],
       "dbfsResultPath": null,
       "isJsonSchema": true,
       "metadata": {},
       "overflow": false,
       "plotOptions": {
        "customPlotOptions": {},
        "displayType": "table",
        "pivotAggregation": null,
        "pivotColumns": null,
        "xColumns": null,
        "yColumns": null
       },
       "removedWidgets": [],
       "schema": [
        {
         "metadata": "{}",
         "name": "Pais",
         "type": "\"string\""
        },
        {
         "metadata": "{}",
         "name": "Novos_casos",
         "type": "\"double\""
        }
       ],
       "type": "table"
      }
     },
     "output_type": "display_data"
    },
    {
     "output_type": "display_data",
     "data": {
      "text/plain": [
       "Databricks visualization. Run in Databricks to view."
      ]
     },
     "metadata": {
      "application/vnd.databricks.v1.subcommand+json": {
       "baseErrorDetails": null,
       "bindings": {},
       "collapsed": false,
       "command": "%sql WITH q AS (select  Pais, sum(Novos_casos) Novos_casos\nfrom default.tbGoldCovidDataset\ngroup by Pais\norder by Novos_casos desc\nLIMIT 10) SELECT `Pais`,SUM(`Novos_casos`) `column_b72fea7540` FROM q GROUP BY `Pais`",
       "commandTitle": "Visualization 1",
       "commandType": "auto",
       "commandVersion": 0,
       "commentThread": [],
       "commentsVisible": false,
       "contentSha256Hex": null,
       "customPlotOptions": {
        "redashChart": [
         {
          "key": "type",
          "value": "CHART"
         },
         {
          "key": "options",
          "value": {
           "alignYAxesAtZero": true,
           "coefficient": 1,
           "columnConfigurationMap": {
            "x": {
             "column": "Pais",
             "id": "column_b72fea7536"
            },
            "y": [
             {
              "column": "Novos_casos",
              "id": "column_b72fea7540",
              "transform": "SUM"
             }
            ]
           },
           "dateTimeFormat": "DD/MM/YYYY HH:mm",
           "direction": {
            "type": "counterclockwise"
           },
           "error_y": {
            "type": "data",
            "visible": true
           },
           "globalSeriesType": "column",
           "isAggregationOn": true,
           "legend": {
            "traceorder": "normal"
           },
           "missingValuesAsZero": true,
           "numberFormat": "0,0.[00000]",
           "percentFormat": "0[.]00%",
           "series": {
            "error_y": {
             "type": "data",
             "visible": true
            },
            "stacking": null
           },
           "seriesOptions": {
            "column_b72fea7537": {
             "name": "Novos_casos",
             "yAxis": 0
            },
            "column_b72fea7540": {
             "type": "column",
             "yAxis": 0
            }
           },
           "showDataLabels": false,
           "sizemode": "diameter",
           "sortX": true,
           "sortY": true,
           "swappedAxes": false,
           "textFormat": "",
           "useAggregationsUi": true,
           "valuesOptions": {},
           "version": 2,
           "xAxis": {
            "labels": {
             "enabled": true
            },
            "type": "-"
           },
           "yAxis": [
            {
             "type": "-"
            },
            {
             "opposite": true,
             "type": "-"
            }
           ]
          }
         }
        ]
       },
       "datasetPreviewNameToCmdIdMap": {},
       "diffDeletes": [],
       "diffInserts": [],
       "displayType": "redashChart",
       "error": null,
       "errorDetails": null,
       "errorSummary": null,
       "errorTraceType": null,
       "finishTime": 0,
       "globalVars": {},
       "guid": "",
       "height": "auto",
       "hideCommandCode": false,
       "hideCommandResult": false,
       "iPythonMetadata": null,
       "inputWidgets": {},
       "isLockedInExamMode": false,
       "latestUser": "a user",
       "latestUserId": null,
       "listResultMetadata": null,
       "metadata": {
        "byteLimit": 2048000,
        "implicitDf": true,
        "rowLimit": 10000
       },
       "nuid": "3a622d01-e749-43d6-b626-61da96b31d5e",
       "origId": 0,
       "parentHierarchy": [],
       "pivotAggregation": null,
       "pivotColumns": null,
       "position": 7.0,
       "resultDbfsErrorMessage": null,
       "resultDbfsStatus": "INLINED_IN_TREE",
       "results": null,
       "showCommandTitle": false,
       "startTime": 0,
       "state": "finished",
       "streamStates": {},
       "subcommandOptions": {
        "queryPlan": {
         "groups": [
          {
           "column": "Pais",
           "type": "column"
          }
         ],
         "selects": [
          {
           "column": "Pais",
           "type": "column"
          },
          {
           "alias": "column_b72fea7540",
           "args": [
            {
             "column": "Novos_casos",
             "type": "column"
            }
           ],
           "function": "SUM",
           "type": "function"
          }
         ]
        }
       },
       "submitTime": 0,
       "subtype": "tableResultSubCmd.visualization",
       "tableResultIndex": 0,
       "tableResultSettingsMap": {},
       "useConsistentColors": false,
       "version": "CommandV1",
       "width": "auto",
       "workflows": [],
       "xColumns": null,
       "yColumns": null
      }
     },
     "output_type": "display_data"
    }
   ],
   "source": [
    "%sql\n",
    "select  Pais, sum(Novos_casos) Novos_casos\n",
    "from default.tbGoldCovidDataset\n",
    "group by Pais\n",
    "order by Novos_casos desc\n",
    "LIMIT 10"
   ]
  },
  {
   "cell_type": "code",
   "execution_count": 0,
   "metadata": {
    "application/vnd.databricks.v1+cell": {
     "cellMetadata": {
      "byteLimit": 2048000,
      "implicitDf": true,
      "rowLimit": 10000
     },
     "inputWidgets": {},
     "nuid": "e98c972d-8664-4919-9c0c-26b70daa7df3",
     "showTitle": false,
     "tableResultSettingsMap": {},
     "title": ""
    }
   },
   "outputs": [
    {
     "output_type": "display_data",
     "data": {
      "text/html": [
       "<style scoped>\n",
       "  .table-result-container {\n",
       "    max-height: 300px;\n",
       "    overflow: auto;\n",
       "  }\n",
       "  table, th, td {\n",
       "    border: 1px solid black;\n",
       "    border-collapse: collapse;\n",
       "  }\n",
       "  th, td {\n",
       "    padding: 5px;\n",
       "  }\n",
       "  th {\n",
       "    text-align: left;\n",
       "  }\n",
       "</style><div class='table-result-container'><table class='table-result'><thead style='background-color: white'><tr><th>Pais</th><th>Novos_casos</th><th>Novas_mortes</th><th>Novos_recuperados</th></tr></thead><tbody><tr><td>US</td><td>3576156.0</td><td>138358.0</td><td>1090645.0</td></tr><tr><td>Brazil</td><td>2046328.0</td><td>77851.0</td><td>1428520.0</td></tr><tr><td>India</td><td>1039084.0</td><td>26273.0</td><td>653751.0</td></tr><tr><td>Russia</td><td>751612.0</td><td>11920.0</td><td>530801.0</td></tr><tr><td>Peru</td><td>341586.0</td><td>12615.0</td><td>230994.0</td></tr><tr><td>Chile</td><td>326439.0</td><td>8347.0</td><td>296814.0</td></tr><tr><td>South Africa</td><td>324221.0</td><td>4669.0</td><td>165591.0</td></tr><tr><td>Mexico</td><td>324041.0</td><td>37574.0</td><td>257681.0</td></tr><tr><td>United Kingdom</td><td>294116.0</td><td>45204.0</td><td>1403.0</td></tr><tr><td>Iran</td><td>269440.0</td><td>13791.0</td><td>232873.0</td></tr></tbody></table></div>"
      ]
     },
     "metadata": {
      "application/vnd.databricks.v1+output": {
       "addedWidgets": {},
       "aggData": [],
       "aggError": "",
       "aggOverflow": false,
       "aggSchema": [],
       "aggSeriesLimitReached": false,
       "aggType": "",
       "arguments": {},
       "columnCustomDisplayInfos": {},
       "data": [
        [
         "US",
         3576156.0,
         138358.0,
         1090645.0
        ],
        [
         "Brazil",
         2046328.0,
         77851.0,
         1428520.0
        ],
        [
         "India",
         1039084.0,
         26273.0,
         653751.0
        ],
        [
         "Russia",
         751612.0,
         11920.0,
         530801.0
        ],
        [
         "Peru",
         341586.0,
         12615.0,
         230994.0
        ],
        [
         "Chile",
         326439.0,
         8347.0,
         296814.0
        ],
        [
         "South Africa",
         324221.0,
         4669.0,
         165591.0
        ],
        [
         "Mexico",
         324041.0,
         37574.0,
         257681.0
        ],
        [
         "United Kingdom",
         294116.0,
         45204.0,
         1403.0
        ],
        [
         "Iran",
         269440.0,
         13791.0,
         232873.0
        ]
       ],
       "datasetInfos": [],
       "dbfsResultPath": null,
       "isJsonSchema": true,
       "metadata": {},
       "overflow": false,
       "plotOptions": {
        "customPlotOptions": {},
        "displayType": "table",
        "pivotAggregation": null,
        "pivotColumns": null,
        "xColumns": null,
        "yColumns": null
       },
       "removedWidgets": [],
       "schema": [
        {
         "metadata": "{}",
         "name": "Pais",
         "type": "\"string\""
        },
        {
         "metadata": "{}",
         "name": "Novos_casos",
         "type": "\"double\""
        },
        {
         "metadata": "{}",
         "name": "Novas_mortes",
         "type": "\"double\""
        },
        {
         "metadata": "{}",
         "name": "Novos_recuperados",
         "type": "\"double\""
        }
       ],
       "type": "table"
      }
     },
     "output_type": "display_data"
    },
    {
     "output_type": "display_data",
     "data": {
      "text/plain": [
       "Databricks visualization. Run in Databricks to view."
      ]
     },
     "metadata": {
      "application/vnd.databricks.v1.subcommand+json": {
       "baseErrorDetails": null,
       "bindings": {},
       "collapsed": false,
       "command": "%sql WITH q AS (select  Pais, sum(Novos_casos) Novos_casos, sum(Novas_mortes) Novas_mortes , sum(Novos_recuperados) Novos_recuperados\nfrom default.tbGoldCovidDataset\ngroup by pais\norder by Novos_casos desc\nLIMIT 10) SELECT `Pais`,SUM(`Novos_casos`) `column_b72fea7528`,SUM(`Novas_mortes`) `column_b72fea7531`,SUM(`Novos_recuperados`) `column_b72fea7534` FROM q GROUP BY `Pais`",
       "commandTitle": "Visualization 1",
       "commandType": "auto",
       "commandVersion": 0,
       "commentThread": [],
       "commentsVisible": false,
       "contentSha256Hex": null,
       "customPlotOptions": {
        "redashChart": [
         {
          "key": "type",
          "value": "CHART"
         },
         {
          "key": "options",
          "value": {
           "alignYAxesAtZero": true,
           "coefficient": 1,
           "columnConfigurationMap": {
            "x": {
             "column": "Pais",
             "id": "column_b72fea7525"
            },
            "y": [
             {
              "column": "Novos_casos",
              "id": "column_b72fea7528",
              "transform": "SUM"
             },
             {
              "column": "Novas_mortes",
              "id": "column_b72fea7531",
              "transform": "SUM"
             },
             {
              "column": "Novos_recuperados",
              "id": "column_b72fea7534",
              "transform": "SUM"
             }
            ]
           },
           "dateTimeFormat": "DD/MM/YYYY HH:mm",
           "direction": {
            "type": "counterclockwise"
           },
           "error_y": {
            "type": "data",
            "visible": true
           },
           "globalSeriesType": "column",
           "isAggregationOn": true,
           "legend": {
            "traceorder": "normal"
           },
           "missingValuesAsZero": true,
           "numberFormat": "0,0.[00000]",
           "percentFormat": "0[.]00%",
           "series": {
            "error_y": {
             "type": "data",
             "visible": true
            },
            "stacking": null
           },
           "seriesOptions": {
            "column_b72fea7528": {
             "type": "column",
             "yAxis": 0
            },
            "column_b72fea7531": {
             "type": "column",
             "yAxis": 0
            },
            "column_b72fea7534": {
             "type": "column",
             "yAxis": 0
            }
           },
           "showDataLabels": false,
           "sizemode": "diameter",
           "sortX": true,
           "sortY": true,
           "swappedAxes": false,
           "textFormat": "",
           "useAggregationsUi": true,
           "valuesOptions": {},
           "version": 2,
           "xAxis": {
            "labels": {
             "enabled": true
            },
            "type": "-"
           },
           "yAxis": [
            {
             "type": "-"
            },
            {
             "opposite": true,
             "type": "-"
            }
           ]
          }
         }
        ]
       },
       "datasetPreviewNameToCmdIdMap": {},
       "diffDeletes": [],
       "diffInserts": [],
       "displayType": "redashChart",
       "error": null,
       "errorDetails": null,
       "errorSummary": null,
       "errorTraceType": null,
       "finishTime": 0,
       "globalVars": {},
       "guid": "",
       "height": "auto",
       "hideCommandCode": false,
       "hideCommandResult": false,
       "iPythonMetadata": null,
       "inputWidgets": {},
       "isLockedInExamMode": false,
       "latestUser": "a user",
       "latestUserId": null,
       "listResultMetadata": null,
       "metadata": {
        "byteLimit": 2048000,
        "implicitDf": true,
        "rowLimit": 10000
       },
       "nuid": "91500504-2cff-4d8e-ace4-405bd5552918",
       "origId": 0,
       "parentHierarchy": [],
       "pivotAggregation": null,
       "pivotColumns": null,
       "position": 8.0,
       "resultDbfsErrorMessage": null,
       "resultDbfsStatus": "INLINED_IN_TREE",
       "results": null,
       "showCommandTitle": false,
       "startTime": 0,
       "state": "finished",
       "streamStates": {},
       "subcommandOptions": {
        "queryPlan": {
         "groups": [
          {
           "column": "Pais",
           "type": "column"
          }
         ],
         "selects": [
          {
           "column": "Pais",
           "type": "column"
          },
          {
           "alias": "column_b72fea7528",
           "args": [
            {
             "column": "Novos_casos",
             "type": "column"
            }
           ],
           "function": "SUM",
           "type": "function"
          },
          {
           "alias": "column_b72fea7531",
           "args": [
            {
             "column": "Novas_mortes",
             "type": "column"
            }
           ],
           "function": "SUM",
           "type": "function"
          },
          {
           "alias": "column_b72fea7534",
           "args": [
            {
             "column": "Novos_recuperados",
             "type": "column"
            }
           ],
           "function": "SUM",
           "type": "function"
          }
         ]
        }
       },
       "submitTime": 0,
       "subtype": "tableResultSubCmd.visualization",
       "tableResultIndex": 0,
       "tableResultSettingsMap": {},
       "useConsistentColors": false,
       "version": "CommandV1",
       "width": "auto",
       "workflows": [],
       "xColumns": null,
       "yColumns": null
      }
     },
     "output_type": "display_data"
    }
   ],
   "source": [
    "%sql\n",
    "select  Pais, sum(Novos_casos) Novos_casos, sum(Novas_mortes) Novas_mortes , sum(Novos_recuperados) Novos_recuperados\n",
    "from default.tbGoldCovidDataset\n",
    "group by pais\n",
    "order by Novos_casos desc\n",
    "LIMIT 10;\n",
    "\n",
    "\n"
   ]
  },
  {
   "cell_type": "code",
   "execution_count": 0,
   "metadata": {
    "application/vnd.databricks.v1+cell": {
     "cellMetadata": {
      "byteLimit": 2048000,
      "implicitDf": true,
      "rowLimit": 10000
     },
     "inputWidgets": {},
     "nuid": "de097b16-0a35-4657-b1de-bbf5b872a20a",
     "showTitle": false,
     "tableResultSettingsMap": {},
     "title": ""
    }
   },
   "outputs": [
    {
     "output_type": "display_data",
     "data": {
      "text/html": [
       "<style scoped>\n",
       "  .table-result-container {\n",
       "    max-height: 300px;\n",
       "    overflow: auto;\n",
       "  }\n",
       "  table, th, td {\n",
       "    border: 1px solid black;\n",
       "    border-collapse: collapse;\n",
       "  }\n",
       "  th, td {\n",
       "    padding: 5px;\n",
       "  }\n",
       "  th {\n",
       "    text-align: left;\n",
       "  }\n",
       "</style><div class='table-result-container'><table class='table-result'><thead style='background-color: white'><tr><th>month(data)</th><th>pais</th><th>Novos_casos</th><th>Novas_mortes</th><th>Novos_recuperados</th></tr></thead><tbody><tr><td>7</td><td>India</td><td>453603.0</td><td>8873.0</td><td>305839.0</td></tr><tr><td>7</td><td>Russia</td><td>104683.0</td><td>2614.0</td><td>118828.0</td></tr><tr><td>7</td><td>Brazil</td><td>644287.0</td><td>18257.0</td><td>640202.0</td></tr><tr><td>7</td><td>US</td><td>939743.0</td><td>10926.0</td><td>370014.0</td></tr><tr><td>6</td><td>US</td><td>837290.0</td><td>22068.0</td><td>275873.0</td></tr><tr><td>6</td><td>Brazil</td><td>887192.0</td><td>30280.0</td><td>581763.0</td></tr><tr><td>6</td><td>India</td><td>394872.0</td><td>11992.0</td><td>256060.0</td></tr><tr><td>6</td><td>Russia</td><td>241086.0</td><td>4613.0</td><td>240090.0</td></tr><tr><td>5</td><td>Russia</td><td>299345.0</td><td>3620.0</td><td>160264.0</td></tr><tr><td>5</td><td>US</td><td>726457.0</td><td>41108.0</td><td>290811.0</td></tr><tr><td>5</td><td>India</td><td>155746.0</td><td>4254.0</td><td>82784.0</td></tr><tr><td>5</td><td>Brazil</td><td>427662.0</td><td>23308.0</td><td>170620.0</td></tr><tr><td>4</td><td>India</td><td>33466.0</td><td>1119.0</td><td>8945.0</td></tr><tr><td>4</td><td>Russia</td><td>104161.0</td><td>1056.0</td><td>11498.0</td></tr><tr><td>4</td><td>US</td><td>883943.0</td><td>58651.0</td><td>146923.0</td></tr><tr><td>4</td><td>Brazil</td><td>81470.0</td><td>5805.0</td><td>35808.0</td></tr><tr><td>3</td><td>US</td><td>188700.0</td><td>5604.0</td><td>7017.0</td></tr><tr><td>3</td><td>Brazil</td><td>5715.0</td><td>201.0</td><td>127.0</td></tr><tr><td>3</td><td>India</td><td>1394.0</td><td>35.0</td><td>120.0</td></tr><tr><td>3</td><td>Russia</td><td>2335.0</td><td>17.0</td><td>119.0</td></tr><tr><td>2</td><td>Russia</td><td>0.0</td><td>0.0</td><td>2.0</td></tr><tr><td>2</td><td>US</td><td>17.0</td><td>1.0</td><td>7.0</td></tr><tr><td>2</td><td>India</td><td>2.0</td><td>0.0</td><td>3.0</td></tr><tr><td>2</td><td>Brazil</td><td>2.0</td><td>0.0</td><td>0.0</td></tr><tr><td>1</td><td>Russia</td><td>2.0</td><td>0.0</td><td>0.0</td></tr><tr><td>1</td><td>US</td><td>6.0</td><td>0.0</td><td>0.0</td></tr><tr><td>1</td><td>India</td><td>1.0</td><td>0.0</td><td>0.0</td></tr></tbody></table></div>"
      ]
     },
     "metadata": {
      "application/vnd.databricks.v1+output": {
       "addedWidgets": {},
       "aggData": [],
       "aggError": "",
       "aggOverflow": false,
       "aggSchema": [],
       "aggSeriesLimitReached": false,
       "aggType": "",
       "arguments": {},
       "columnCustomDisplayInfos": {},
       "data": [
        [
         7,
         "India",
         453603.0,
         8873.0,
         305839.0
        ],
        [
         7,
         "Russia",
         104683.0,
         2614.0,
         118828.0
        ],
        [
         7,
         "Brazil",
         644287.0,
         18257.0,
         640202.0
        ],
        [
         7,
         "US",
         939743.0,
         10926.0,
         370014.0
        ],
        [
         6,
         "US",
         837290.0,
         22068.0,
         275873.0
        ],
        [
         6,
         "Brazil",
         887192.0,
         30280.0,
         581763.0
        ],
        [
         6,
         "India",
         394872.0,
         11992.0,
         256060.0
        ],
        [
         6,
         "Russia",
         241086.0,
         4613.0,
         240090.0
        ],
        [
         5,
         "Russia",
         299345.0,
         3620.0,
         160264.0
        ],
        [
         5,
         "US",
         726457.0,
         41108.0,
         290811.0
        ],
        [
         5,
         "India",
         155746.0,
         4254.0,
         82784.0
        ],
        [
         5,
         "Brazil",
         427662.0,
         23308.0,
         170620.0
        ],
        [
         4,
         "India",
         33466.0,
         1119.0,
         8945.0
        ],
        [
         4,
         "Russia",
         104161.0,
         1056.0,
         11498.0
        ],
        [
         4,
         "US",
         883943.0,
         58651.0,
         146923.0
        ],
        [
         4,
         "Brazil",
         81470.0,
         5805.0,
         35808.0
        ],
        [
         3,
         "US",
         188700.0,
         5604.0,
         7017.0
        ],
        [
         3,
         "Brazil",
         5715.0,
         201.0,
         127.0
        ],
        [
         3,
         "India",
         1394.0,
         35.0,
         120.0
        ],
        [
         3,
         "Russia",
         2335.0,
         17.0,
         119.0
        ],
        [
         2,
         "Russia",
         0.0,
         0.0,
         2.0
        ],
        [
         2,
         "US",
         17.0,
         1.0,
         7.0
        ],
        [
         2,
         "India",
         2.0,
         0.0,
         3.0
        ],
        [
         2,
         "Brazil",
         2.0,
         0.0,
         0.0
        ],
        [
         1,
         "Russia",
         2.0,
         0.0,
         0.0
        ],
        [
         1,
         "US",
         6.0,
         0.0,
         0.0
        ],
        [
         1,
         "India",
         1.0,
         0.0,
         0.0
        ]
       ],
       "datasetInfos": [],
       "dbfsResultPath": null,
       "isJsonSchema": true,
       "metadata": {},
       "overflow": false,
       "plotOptions": {
        "customPlotOptions": {},
        "displayType": "table",
        "pivotAggregation": null,
        "pivotColumns": null,
        "xColumns": null,
        "yColumns": null
       },
       "removedWidgets": [],
       "schema": [
        {
         "metadata": "{\"__autoGeneratedAlias\":\"true\"}",
         "name": "month(data)",
         "type": "\"integer\""
        },
        {
         "metadata": "{}",
         "name": "pais",
         "type": "\"string\""
        },
        {
         "metadata": "{}",
         "name": "Novos_casos",
         "type": "\"double\""
        },
        {
         "metadata": "{}",
         "name": "Novas_mortes",
         "type": "\"double\""
        },
        {
         "metadata": "{}",
         "name": "Novos_recuperados",
         "type": "\"double\""
        }
       ],
       "type": "table"
      }
     },
     "output_type": "display_data"
    },
    {
     "output_type": "display_data",
     "data": {
      "text/plain": [
       "Databricks visualization. Run in Databricks to view."
      ]
     },
     "metadata": {
      "application/vnd.databricks.v1.subcommand+json": {
       "baseErrorDetails": null,
       "bindings": {},
       "collapsed": false,
       "command": "%sql WITH q AS (Select month(data),pais,sum(Novos_casos) Novos_casos, sum(Novas_mortes) Novas_mortes , sum(Novos_recuperados) Novos_recuperados from \ndefault.tbGoldCovidDataset\nwhere Pais in (\n            select Pais from \n                            (\n                          select Pais, sum(Novos_casos) Novos_casos\n                          from default.tbGoldCovidDataset\n                          group by Pais\n                          order by  Novos_casos desc\n                          LIMIT 4\n                            )\n               ) \ngroup by month(data),pais\norder by  month(data) desc) SELECT `month(data)`,SUM(`Novos_casos`) `column_10e5035c44`,SUM(`Novos_recuperados`) `column_10e5035c50`,`pais` FROM q GROUP BY `month(data)`,`pais`",
       "commandTitle": "Visualization 1",
       "commandType": "auto",
       "commandVersion": 0,
       "commentThread": [],
       "commentsVisible": false,
       "contentSha256Hex": null,
       "customPlotOptions": {
        "redashChart": [
         {
          "key": "type",
          "value": "CHART"
         },
         {
          "key": "options",
          "value": {
           "alignYAxesAtZero": true,
           "coefficient": 1,
           "columnConfigurationMap": {
            "series": {
             "column": "pais",
             "id": "column_10e5035c53"
            },
            "x": {
             "column": "month(data)",
             "id": "column_10e5035c54"
            },
            "y": [
             {
              "column": "Novos_casos",
              "id": "column_10e5035c44",
              "transform": "SUM"
             },
             {
              "column": "Novos_recuperados",
              "id": "column_10e5035c50",
              "transform": "SUM"
             }
            ]
           },
           "dateTimeFormat": "DD/MM/YYYY HH:mm",
           "direction": {
            "type": "counterclockwise"
           },
           "error_y": {
            "type": "data",
            "visible": true
           },
           "globalSeriesType": "column",
           "isAggregationOn": true,
           "legend": {
            "traceorder": "normal"
           },
           "missingValuesAsZero": true,
           "numberFormat": "0,0.[00000]",
           "percentFormat": "0[.]00%",
           "series": {
            "error_y": {
             "type": "data",
             "visible": true
            },
            "stacking": null
           },
           "seriesOptions": {
            "Brazil, SUM(Novas_mortes)": {
             "color": "#356AFF"
            },
            "Brazil, SUM(Novos_casos)": {
             "color": "#799CFF"
            },
            "Brazil, SUM(Novos_recuperados)": {
             "color": "#50F5ED"
            },
            "India, SUM(Novas_mortes)": {
             "color": "#E92828"
            },
            "India, SUM(Novos_casos)": {
             "color": "#B554FF"
            },
            "India, SUM(Novos_recuperados)": {
             "color": "#FF7DE3"
            },
            "Russia, SUM(Novas_mortes)": {
             "color": "#17BF51"
            },
            "Russia, SUM(Novos_casos)": {
             "color": "#3BD973"
            },
            "Russia, SUM(Novos_recuperados)": {
             "color": "#049235"
            },
            "US, SUM(Novas_mortes)": {
             "color": "#A55F2A"
            },
            "US, SUM(Novos_casos)": {
             "color": "#000000"
            },
            "US, SUM(Novos_recuperados)": {
             "color": "#494949"
            },
            "column_10e5035c44": {
             "type": "column",
             "yAxis": 0
            },
            "column_10e5035c47": {
             "type": "column",
             "yAxis": 0
            },
            "column_10e5035c50": {
             "type": "column",
             "yAxis": 0
            }
           },
           "showDataLabels": false,
           "sizemode": "diameter",
           "sortX": true,
           "sortY": true,
           "swappedAxes": false,
           "textFormat": "",
           "useAggregationsUi": true,
           "valuesOptions": {},
           "version": 2,
           "xAxis": {
            "labels": {
             "enabled": true
            },
            "type": "-"
           },
           "yAxis": [
            {
             "type": "-"
            },
            {
             "opposite": true,
             "type": "-"
            }
           ]
          }
         }
        ]
       },
       "datasetPreviewNameToCmdIdMap": {},
       "diffDeletes": [],
       "diffInserts": [],
       "displayType": "redashChart",
       "error": null,
       "errorDetails": null,
       "errorSummary": null,
       "errorTraceType": null,
       "finishTime": 0,
       "globalVars": {},
       "guid": "",
       "height": "auto",
       "hideCommandCode": false,
       "hideCommandResult": false,
       "iPythonMetadata": null,
       "inputWidgets": {},
       "isLockedInExamMode": false,
       "latestUser": "a user",
       "latestUserId": null,
       "listResultMetadata": null,
       "metadata": {
        "byteLimit": 2048000,
        "implicitDf": true,
        "rowLimit": 10000
       },
       "nuid": "ef5d153f-f165-4e54-b532-6f35cfe5a539",
       "origId": 0,
       "parentHierarchy": [],
       "pivotAggregation": null,
       "pivotColumns": null,
       "position": 8.5,
       "resultDbfsErrorMessage": null,
       "resultDbfsStatus": "INLINED_IN_TREE",
       "results": null,
       "showCommandTitle": false,
       "startTime": 0,
       "state": "finished",
       "streamStates": {},
       "subcommandOptions": {
        "queryPlan": {
         "groups": [
          {
           "column": "month(data)",
           "type": "column"
          },
          {
           "column": "pais",
           "type": "column"
          }
         ],
         "selects": [
          {
           "column": "month(data)",
           "type": "column"
          },
          {
           "alias": "column_10e5035c44",
           "args": [
            {
             "column": "Novos_casos",
             "type": "column"
            }
           ],
           "function": "SUM",
           "type": "function"
          },
          {
           "alias": "column_10e5035c50",
           "args": [
            {
             "column": "Novos_recuperados",
             "type": "column"
            }
           ],
           "function": "SUM",
           "type": "function"
          },
          {
           "column": "pais",
           "type": "column"
          }
         ]
        }
       },
       "submitTime": 0,
       "subtype": "tableResultSubCmd.visualization",
       "tableResultIndex": 0,
       "tableResultSettingsMap": {},
       "useConsistentColors": false,
       "version": "CommandV1",
       "width": "auto",
       "workflows": [],
       "xColumns": null,
       "yColumns": null
      }
     },
     "output_type": "display_data"
    }
   ],
   "source": [
    "%sql\n",
    "Select month(data),pais,sum(Novos_casos) Novos_casos, sum(Novas_mortes) Novas_mortes , sum(Novos_recuperados) Novos_recuperados from \n",
    "default.tbGoldCovidDataset\n",
    "where Pais in (\n",
    "            select Pais from \n",
    "                            (\n",
    "                          select Pais, sum(Novos_casos) Novos_casos\n",
    "                          from default.tbGoldCovidDataset\n",
    "                          group by Pais\n",
    "                          order by  Novos_casos desc\n",
    "                          LIMIT 4\n",
    "                            )\n",
    "               ) \n",
    "group by month(data),pais\n",
    "order by  month(data) desc"
   ]
  },
  {
   "cell_type": "code",
   "execution_count": 0,
   "metadata": {
    "application/vnd.databricks.v1+cell": {
     "cellMetadata": {
      "byteLimit": 2048000,
      "implicitDf": true,
      "rowLimit": 10000
     },
     "inputWidgets": {},
     "nuid": "4ea34999-33de-4132-a099-8ea0bb2d93f2",
     "showTitle": false,
     "tableResultSettingsMap": {},
     "title": ""
    }
   },
   "outputs": [
    {
     "output_type": "display_data",
     "data": {
      "text/html": [
       "<style scoped>\n",
       "  .table-result-container {\n",
       "    max-height: 300px;\n",
       "    overflow: auto;\n",
       "  }\n",
       "  table, th, td {\n",
       "    border: 1px solid black;\n",
       "    border-collapse: collapse;\n",
       "  }\n",
       "  th, td {\n",
       "    padding: 5px;\n",
       "  }\n",
       "  th {\n",
       "    text-align: left;\n",
       "  }\n",
       "</style><div class='table-result-container'><table class='table-result'><thead style='background-color: white'><tr><th>Continente</th><th>Novos_casos</th></tr></thead><tbody><tr><td>Americas</td><td>7376844.0</td></tr><tr><td>Europe</td><td>3073304.0</td></tr><tr><td>Eastern Mediterranean</td><td>1349193.0</td></tr><tr><td>South-East Asia</td><td>1348186.0</td></tr><tr><td>Africa</td><td>542799.0</td></tr><tr><td>Western Pacific</td><td>253616.0</td></tr></tbody></table></div>"
      ]
     },
     "metadata": {
      "application/vnd.databricks.v1+output": {
       "addedWidgets": {},
       "aggData": [],
       "aggError": "",
       "aggOverflow": false,
       "aggSchema": [],
       "aggSeriesLimitReached": false,
       "aggType": "",
       "arguments": {},
       "columnCustomDisplayInfos": {},
       "data": [
        [
         "Americas",
         7376844.0
        ],
        [
         "Europe",
         3073304.0
        ],
        [
         "Eastern Mediterranean",
         1349193.0
        ],
        [
         "South-East Asia",
         1348186.0
        ],
        [
         "Africa",
         542799.0
        ],
        [
         "Western Pacific",
         253616.0
        ]
       ],
       "datasetInfos": [],
       "dbfsResultPath": null,
       "isJsonSchema": true,
       "metadata": {},
       "overflow": false,
       "plotOptions": {
        "customPlotOptions": {},
        "displayType": "table",
        "pivotAggregation": null,
        "pivotColumns": null,
        "xColumns": null,
        "yColumns": null
       },
       "removedWidgets": [],
       "schema": [
        {
         "metadata": "{}",
         "name": "Continente",
         "type": "\"string\""
        },
        {
         "metadata": "{}",
         "name": "Novos_casos",
         "type": "\"double\""
        }
       ],
       "type": "table"
      }
     },
     "output_type": "display_data"
    },
    {
     "output_type": "display_data",
     "data": {
      "text/plain": [
       "Databricks visualization. Run in Databricks to view."
      ]
     },
     "metadata": {
      "application/vnd.databricks.v1.subcommand+json": {
       "baseErrorDetails": null,
       "bindings": {},
       "collapsed": false,
       "command": "%sql WITH q AS (select  Continente, sum(Novos_casos) Novos_casos\nfrom default.tbGoldCovidDataset\ngroup by Continente\norder by Novos_casos desc\nLIMIT 10) SELECT `Continente`,SUM(`Novos_casos`) `column_10e5035c25` FROM q GROUP BY `Continente`",
       "commandTitle": "Visualization 1",
       "commandType": "auto",
       "commandVersion": 0,
       "commentThread": [],
       "commentsVisible": false,
       "contentSha256Hex": null,
       "customPlotOptions": {
        "redashChart": [
         {
          "key": "type",
          "value": "CHART"
         },
         {
          "key": "options",
          "value": {
           "alignYAxesAtZero": true,
           "coefficient": 1,
           "columnConfigurationMap": {
            "x": {
             "column": "Continente",
             "id": "column_10e5035c24"
            },
            "y": [
             {
              "column": "Novos_casos",
              "id": "column_10e5035c25",
              "transform": "SUM"
             }
            ]
           },
           "dateTimeFormat": "DD/MM/YYYY HH:mm",
           "direction": {
            "type": "counterclockwise"
           },
           "error_y": {
            "type": "data",
            "visible": true
           },
           "globalSeriesType": "column",
           "isAggregationOn": true,
           "legend": {
            "traceorder": "normal"
           },
           "missingValuesAsZero": true,
           "numberFormat": "0,0.[00000]",
           "percentFormat": "0[.]00%",
           "series": {
            "error_y": {
             "type": "data",
             "visible": true
            },
            "stacking": null
           },
           "seriesOptions": {
            "column_10e5035c25": {
             "name": "Novos_casos",
             "yAxis": 0
            }
           },
           "showDataLabels": false,
           "sizemode": "diameter",
           "sortX": true,
           "sortY": true,
           "swappedAxes": false,
           "textFormat": "",
           "useAggregationsUi": true,
           "valuesOptions": {},
           "version": 2,
           "xAxis": {
            "labels": {
             "enabled": true
            },
            "type": "-"
           },
           "yAxis": [
            {
             "type": "-"
            },
            {
             "opposite": true,
             "type": "-"
            }
           ]
          }
         }
        ]
       },
       "datasetPreviewNameToCmdIdMap": {},
       "diffDeletes": [],
       "diffInserts": [],
       "displayType": "redashChart",
       "error": null,
       "errorDetails": null,
       "errorSummary": null,
       "errorTraceType": null,
       "finishTime": 0,
       "globalVars": {},
       "guid": "",
       "height": "auto",
       "hideCommandCode": false,
       "hideCommandResult": false,
       "iPythonMetadata": null,
       "inputWidgets": {},
       "isLockedInExamMode": false,
       "latestUser": "a user",
       "latestUserId": null,
       "listResultMetadata": null,
       "metadata": {
        "byteLimit": 2048000,
        "implicitDf": true,
        "rowLimit": 10000
       },
       "nuid": "e996e911-c062-4044-b067-da77f1461ff1",
       "origId": 0,
       "parentHierarchy": [],
       "pivotAggregation": null,
       "pivotColumns": null,
       "position": 8.75,
       "resultDbfsErrorMessage": null,
       "resultDbfsStatus": "INLINED_IN_TREE",
       "results": null,
       "showCommandTitle": false,
       "startTime": 0,
       "state": "finished",
       "streamStates": {},
       "subcommandOptions": {
        "queryPlan": {
         "groups": [
          {
           "column": "Continente",
           "type": "column"
          }
         ],
         "selects": [
          {
           "column": "Continente",
           "type": "column"
          },
          {
           "alias": "column_10e5035c25",
           "args": [
            {
             "column": "Novos_casos",
             "type": "column"
            }
           ],
           "function": "SUM",
           "type": "function"
          }
         ]
        }
       },
       "submitTime": 0,
       "subtype": "tableResultSubCmd.visualization",
       "tableResultIndex": 0,
       "tableResultSettingsMap": {},
       "useConsistentColors": false,
       "version": "CommandV1",
       "width": "auto",
       "workflows": [],
       "xColumns": null,
       "yColumns": null
      }
     },
     "output_type": "display_data"
    }
   ],
   "source": [
    "%sql\n",
    "select  Continente, sum(Novos_casos) Novos_casos\n",
    "from default.tbGoldCovidDataset\n",
    "group by Continente\n",
    "order by Novos_casos desc\n",
    "LIMIT 10"
   ]
  },
  {
   "cell_type": "code",
   "execution_count": 0,
   "metadata": {
    "application/vnd.databricks.v1+cell": {
     "cellMetadata": {
      "byteLimit": 2048000,
      "implicitDf": true,
      "rowLimit": 10000
     },
     "inputWidgets": {},
     "nuid": "fb3cd8df-b300-48be-9aae-a8418b48f9cb",
     "showTitle": false,
     "tableResultSettingsMap": {},
     "title": ""
    }
   },
   "outputs": [
    {
     "output_type": "display_data",
     "data": {
      "text/html": [
       "<style scoped>\n",
       "  .table-result-container {\n",
       "    max-height: 300px;\n",
       "    overflow: auto;\n",
       "  }\n",
       "  table, th, td {\n",
       "    border: 1px solid black;\n",
       "    border-collapse: collapse;\n",
       "  }\n",
       "  th, td {\n",
       "    padding: 5px;\n",
       "  }\n",
       "  th {\n",
       "    text-align: left;\n",
       "  }\n",
       "</style><div class='table-result-container'><table class='table-result'><thead style='background-color: white'><tr><th>month(data)</th><th>Novos_casos</th><th>Novas_mortes</th><th>Novos_recuperados</th></tr></thead><tbody><tr><td>2</td><td>2.0</td><td>0.0</td><td>0.0</td></tr><tr><td>3</td><td>5715.0</td><td>201.0</td><td>127.0</td></tr><tr><td>4</td><td>81470.0</td><td>5805.0</td><td>35808.0</td></tr><tr><td>5</td><td>427662.0</td><td>23308.0</td><td>170620.0</td></tr><tr><td>6</td><td>887192.0</td><td>30280.0</td><td>581763.0</td></tr><tr><td>7</td><td>644287.0</td><td>18257.0</td><td>640202.0</td></tr></tbody></table></div>"
      ]
     },
     "metadata": {
      "application/vnd.databricks.v1+output": {
       "addedWidgets": {},
       "aggData": [],
       "aggError": "",
       "aggOverflow": false,
       "aggSchema": [],
       "aggSeriesLimitReached": false,
       "aggType": "",
       "arguments": {},
       "columnCustomDisplayInfos": {},
       "data": [
        [
         2,
         2.0,
         0.0,
         0.0
        ],
        [
         3,
         5715.0,
         201.0,
         127.0
        ],
        [
         4,
         81470.0,
         5805.0,
         35808.0
        ],
        [
         5,
         427662.0,
         23308.0,
         170620.0
        ],
        [
         6,
         887192.0,
         30280.0,
         581763.0
        ],
        [
         7,
         644287.0,
         18257.0,
         640202.0
        ]
       ],
       "datasetInfos": [],
       "dbfsResultPath": null,
       "isJsonSchema": true,
       "metadata": {},
       "overflow": false,
       "plotOptions": {
        "customPlotOptions": {},
        "displayType": "table",
        "pivotAggregation": null,
        "pivotColumns": null,
        "xColumns": null,
        "yColumns": null
       },
       "removedWidgets": [],
       "schema": [
        {
         "metadata": "{\"__autoGeneratedAlias\":\"true\"}",
         "name": "month(data)",
         "type": "\"integer\""
        },
        {
         "metadata": "{}",
         "name": "Novos_casos",
         "type": "\"double\""
        },
        {
         "metadata": "{}",
         "name": "Novas_mortes",
         "type": "\"double\""
        },
        {
         "metadata": "{}",
         "name": "Novos_recuperados",
         "type": "\"double\""
        }
       ],
       "type": "table"
      }
     },
     "output_type": "display_data"
    },
    {
     "output_type": "display_data",
     "data": {
      "text/plain": [
       "Databricks visualization. Run in Databricks to view."
      ]
     },
     "metadata": {
      "application/vnd.databricks.v1.subcommand+json": {
       "baseErrorDetails": null,
       "bindings": {},
       "collapsed": false,
       "command": "%sql WITH q AS (select  month(data), sum(Novos_casos) Novos_casos, sum(Novas_mortes) Novas_mortes , sum(Novos_recuperados) Novos_recuperados\nfrom default.tbGoldCovidDataset\nwhere pais = 'Brazil'\ngroup by month(data)\norder by month(data)) SELECT `month(data)`,SUM(`Novos_casos`) `column_10e5035c30`,SUM(`Novas_mortes`) `column_10e5035c33`,SUM(`Novos_recuperados`) `column_10e5035c36` FROM q GROUP BY `month(data)`",
       "commandTitle": "Visualization 1",
       "commandType": "auto",
       "commandVersion": 0,
       "commentThread": [],
       "commentsVisible": false,
       "contentSha256Hex": null,
       "customPlotOptions": {
        "redashChart": [
         {
          "key": "type",
          "value": "CHART"
         },
         {
          "key": "options",
          "value": {
           "alignYAxesAtZero": true,
           "coefficient": 1,
           "columnConfigurationMap": {
            "x": {
             "column": "month(data)",
             "id": "column_10e5035c27"
            },
            "y": [
             {
              "column": "Novos_casos",
              "id": "column_10e5035c30",
              "transform": "SUM"
             },
             {
              "column": "Novas_mortes",
              "id": "column_10e5035c33",
              "transform": "SUM"
             },
             {
              "column": "Novos_recuperados",
              "id": "column_10e5035c36",
              "transform": "SUM"
             }
            ]
           },
           "dateTimeFormat": "DD/MM/YYYY HH:mm",
           "direction": {
            "type": "counterclockwise"
           },
           "error_y": {
            "type": "data",
            "visible": true
           },
           "globalSeriesType": "column",
           "isAggregationOn": true,
           "legend": {
            "traceorder": "normal"
           },
           "missingValuesAsZero": true,
           "numberFormat": "0,0.[00000]",
           "percentFormat": "0[.]00%",
           "series": {
            "error_y": {
             "type": "data",
             "visible": true
            },
            "stacking": null
           },
           "seriesOptions": {
            "column_10e5035c30": {
             "type": "column",
             "yAxis": 0
            },
            "column_10e5035c33": {
             "type": "column",
             "yAxis": 0
            },
            "column_10e5035c36": {
             "type": "column",
             "yAxis": 0
            }
           },
           "showDataLabels": false,
           "sizemode": "diameter",
           "sortX": true,
           "sortY": true,
           "swappedAxes": false,
           "textFormat": "",
           "useAggregationsUi": true,
           "valuesOptions": {},
           "version": 2,
           "xAxis": {
            "labels": {
             "enabled": true
            },
            "type": "-"
           },
           "yAxis": [
            {
             "type": "-"
            },
            {
             "opposite": true,
             "type": "-"
            }
           ]
          }
         }
        ]
       },
       "datasetPreviewNameToCmdIdMap": {},
       "diffDeletes": [],
       "diffInserts": [],
       "displayType": "redashChart",
       "error": null,
       "errorDetails": null,
       "errorSummary": null,
       "errorTraceType": null,
       "finishTime": 0,
       "globalVars": {},
       "guid": "",
       "height": "auto",
       "hideCommandCode": false,
       "hideCommandResult": false,
       "iPythonMetadata": null,
       "inputWidgets": {},
       "isLockedInExamMode": false,
       "latestUser": "a user",
       "latestUserId": null,
       "listResultMetadata": null,
       "metadata": {
        "byteLimit": 2048000,
        "implicitDf": true,
        "rowLimit": 10000
       },
       "nuid": "345d6ea8-48a7-41e8-9796-2513bc28cb80",
       "origId": 0,
       "parentHierarchy": [],
       "pivotAggregation": null,
       "pivotColumns": null,
       "position": 9.0,
       "resultDbfsErrorMessage": null,
       "resultDbfsStatus": "INLINED_IN_TREE",
       "results": null,
       "showCommandTitle": false,
       "startTime": 0,
       "state": "finished",
       "streamStates": {},
       "subcommandOptions": {
        "queryPlan": {
         "groups": [
          {
           "column": "month(data)",
           "type": "column"
          }
         ],
         "selects": [
          {
           "column": "month(data)",
           "type": "column"
          },
          {
           "alias": "column_10e5035c30",
           "args": [
            {
             "column": "Novos_casos",
             "type": "column"
            }
           ],
           "function": "SUM",
           "type": "function"
          },
          {
           "alias": "column_10e5035c33",
           "args": [
            {
             "column": "Novas_mortes",
             "type": "column"
            }
           ],
           "function": "SUM",
           "type": "function"
          },
          {
           "alias": "column_10e5035c36",
           "args": [
            {
             "column": "Novos_recuperados",
             "type": "column"
            }
           ],
           "function": "SUM",
           "type": "function"
          }
         ]
        }
       },
       "submitTime": 0,
       "subtype": "tableResultSubCmd.visualization",
       "tableResultIndex": 0,
       "tableResultSettingsMap": {},
       "useConsistentColors": false,
       "version": "CommandV1",
       "width": "auto",
       "workflows": [],
       "xColumns": null,
       "yColumns": null
      }
     },
     "output_type": "display_data"
    }
   ],
   "source": [
    "%sql\n",
    "select  month(data), sum(Novos_casos) Novos_casos, sum(Novas_mortes) Novas_mortes , sum(Novos_recuperados) Novos_recuperados\n",
    "from default.tbGoldCovidDataset\n",
    "where pais = 'Brazil'\n",
    "group by month(data)\n",
    "order by month(data)\n"
   ]
  }
 ],
 "metadata": {
  "application/vnd.databricks.v1+notebook": {
   "computePreferences": null,
   "dashboards": [],
   "environmentMetadata": {
    "base_environment": "",
    "environment_version": "1"
   },
   "inputWidgetPreferences": null,
   "language": "python",
   "notebookMetadata": {
    "mostRecentlyExecutedCommandWithImplicitDF": {
     "commandId": 4127911255459259,
     "dataframes": [
      "_sqldf"
     ]
    },
    "pythonIndentUnit": 4
   },
   "notebookName": "MVP",
   "widgets": {}
  }
 },
 "nbformat": 4,
 "nbformat_minor": 0
}